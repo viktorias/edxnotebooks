{
 "metadata": {
  "name": ""
 },
 "nbformat": 3,
 "nbformat_minor": 0,
 "worksheets": [
  {
   "cells": [
    {
     "cell_type": "code",
     "collapsed": false,
     "input": [
      "from IPython.display import display\n",
      "\n",
      "from sympy.interactive import printing\n",
      "printing.init_printing()\n",
      "from __future__ import division\n",
      "import sympy as sym\n",
      "from sympy import *\n",
      "\n",
      "import numpy as np\n",
      "import matplotlib.pyplot as plt\n",
      "%matplotlib inline"
     ],
     "language": "python",
     "metadata": {},
     "outputs": [],
     "prompt_number": 1
    },
    {
     "cell_type": "heading",
     "level": 4,
     "metadata": {},
     "source": [
      "HW5_5: Shaft subjected to sinusoidal distributed torque"
     ]
    },
    {
     "cell_type": "markdown",
     "metadata": {},
     "source": [
      "Circular shaft $AB$ has length $3L$ and is supported by a wall at $A$, where $x=0$, and free to rotate at $B$, where $x=3L$. A distributed torque per unit length $t_x(x)=t_0cos(\\frac {\\pi x}{2L})$, with $t_0$ in [N\u22c5mm], is applied around the axis of the shaft.<br />\n",
      "<img src=\"files/img/images_HW5_5_1.png\" width=\"650\" /><br />\n",
      "Note that, in addition to the GRADED matlab window in HW5_5_1X below, we have also given to you a CONVENIENT MATLAB WINDOW near the bottom of this page; you may use the CONVENIENT MATLAB WINDOW to create plots of your functions as we do in Problem E5_3, but you will not lose points if you choose not to use it. Also remember that to plot your functions you first need to assign numerical values to your variables, for example, you may take $L=1m$, $t_0=10 N\u22c5m/m$. Plotting $t_x(x)$ and the axial torque resultant $\\mathcal{T}(x)$ along the shaft is always an excellent way to test if your answers make sense! "
     ]
    },
    {
     "cell_type": "markdown",
     "metadata": {},
     "source": [
      "HW5_5_1X Using the MATLAB window below, obtain a symbolic expression (in terms of $t_0$, $x$, and $L$) for the axial torque resultant $\\mathcal{T}(x)$ along the shaft. For these quantities use corresponding symbolic MATLAB variables $t_0$, $x$, $L$ and $\\mathcal{T}(x)$ in your script. Also, remember to enter \u03c0 as pi and to use xp as the variable of integration. "
     ]
    },
    {
     "cell_type": "code",
     "collapsed": false,
     "input": [
      "L, t_0, x, xp = symbols(\"L t_0 x xp\", real=True, positive=True)\n",
      "t_x = t_0*cos(pi*xp/(2*L))\n",
      "t_x"
     ],
     "language": "python",
     "metadata": {},
     "outputs": [
      {
       "latex": [
        "$$t_{0} \\cos{\\left (\\frac{\\pi xp}{2 L} \\right )}$$"
       ],
       "metadata": {},
       "output_type": "pyout",
       "png": "[encoded data removed]",
       "prompt_number": 2,
       "text": [
        "      \u239b\u03c0\u22c5xp\u239e\n",
        "t\u2080\u22c5cos\u239c\u2500\u2500\u2500\u2500\u239f\n",
        "      \u239d2\u22c5L \u23a0"
       ]
      }
     ],
     "prompt_number": 2
    },
    {
     "cell_type": "code",
     "collapsed": false,
     "input": [
      "T_x = integrate(t_x, (xp, x, 3*L))\n",
      "T_x"
     ],
     "language": "python",
     "metadata": {},
     "outputs": [
      {
       "latex": [
        "$$- \\frac{2 L}{\\pi} t_{0} \\sin{\\left (\\frac{\\pi x}{2 L} \\right )} - \\frac{2 L}{\\pi} t_{0}$$"
       ],
       "metadata": {},
       "output_type": "pyout",
       "png": "[encoded data removed]",
       "prompt_number": 3,
       "text": [
        "            \u239b\u03c0\u22c5x\u239e         \n",
        "  2\u22c5L\u22c5t\u2080\u22c5sin\u239c\u2500\u2500\u2500\u239f         \n",
        "            \u239d2\u22c5L\u23a0   2\u22c5L\u22c5t\u2080\n",
        "- \u2500\u2500\u2500\u2500\u2500\u2500\u2500\u2500\u2500\u2500\u2500\u2500\u2500\u2500\u2500 - \u2500\u2500\u2500\u2500\u2500\u2500\n",
        "         \u03c0            \u03c0   "
       ]
      }
     ],
     "prompt_number": 3
    },
    {
     "cell_type": "code",
     "collapsed": false,
     "input": [
      "str(T_x)"
     ],
     "language": "python",
     "metadata": {},
     "outputs": [
      {
       "metadata": {},
       "output_type": "pyout",
       "prompt_number": 4,
       "text": [
        "'-2*L*t_0*sin(pi*x/(2*L))/pi - 2*L*t_0/pi'"
       ]
      }
     ],
     "prompt_number": 4
    },
    {
     "cell_type": "markdown",
     "metadata": {},
     "source": [
      "HW5_5_2 Using the results from your MATLAB script, obtain a symbolic expression, in terms of $t_0$ (enter this as $t_0$) and $L$, for the maximum magnitude (absolute value) of the axial torque resultant in the shaft, $\\mathcal{T}_{max}$. If you have a factor of \u03c0 in your expression, enter this as as pi :"
     ]
    },
    {
     "cell_type": "code",
     "collapsed": false,
     "input": [
      "solve(sin(x)-1, x)"
     ],
     "language": "python",
     "metadata": {},
     "outputs": [
      {
       "latex": [
        "$$\\begin{bmatrix}\\frac{\\pi}{2}\\end{bmatrix}$$"
       ],
       "metadata": {},
       "output_type": "pyout",
       "prompt_number": 5,
       "text": [
        "\u23a1\u03c0\u23a4\n",
        "\u23a2\u2500\u23a5\n",
        "\u23a32\u23a6"
       ]
      }
     ],
     "prompt_number": 5
    },
    {
     "cell_type": "code",
     "collapsed": false,
     "input": [
      "solve(pi*x/(2*L)-pi/2, x)"
     ],
     "language": "python",
     "metadata": {},
     "outputs": [
      {
       "latex": [
        "$$\\begin{bmatrix}L\\end{bmatrix}$$"
       ],
       "metadata": {},
       "output_type": "pyout",
       "prompt_number": 6,
       "text": [
        "[L]"
       ]
      }
     ],
     "prompt_number": 6
    },
    {
     "cell_type": "code",
     "collapsed": false,
     "input": [
      "display(T_x.subs(x, L))\n",
      "display(str(T_x.subs(x, L)))"
     ],
     "language": "python",
     "metadata": {},
     "outputs": [
      {
       "latex": [
        "$$- \\frac{4 L}{\\pi} t_{0}$$"
       ],
       "metadata": {},
       "output_type": "display_data",
       "png": "[encoded data removed]",
       "text": [
        "-4\u22c5L\u22c5t\u2080 \n",
        "\u2500\u2500\u2500\u2500\u2500\u2500\u2500\u2500\n",
        "   \u03c0    "
       ]
      },
      {
       "metadata": {},
       "output_type": "display_data",
       "text": [
        "'-4*L*t_0/pi'"
       ]
      }
     ],
     "prompt_number": 7
    },
    {
     "cell_type": "markdown",
     "metadata": {},
     "source": [
      " A Convenient MATLAB Window\n",
      "...and challenge question\n",
      "\n",
      "You can use the blank window below to get help from MATLAB in solving this problem. Also, if you feel up to it, try using MATLAB to plot $t_x(x)$ and $\\mathcal{T}(x)$ as we do in E5_3_4X ; remember that to plot your functions you first need to assign numerical values to your variables. If you succeed, take a screenshot of your plot (NOT THE CODE in the command window!) and post it in the discussion forum under the \"Challenge!\" thread. It is okay to do this just this once, even if it \"gives away\" the solution to HW5_5."
     ]
    },
    {
     "cell_type": "code",
     "collapsed": false,
     "input": [
      "str(t_x.subs([(L, 1), (t_0, 10), (xp, x)]))"
     ],
     "language": "python",
     "metadata": {},
     "outputs": [
      {
       "metadata": {},
       "output_type": "pyout",
       "prompt_number": 8,
       "text": [
        "'10*cos(pi*x/2)'"
       ]
      }
     ],
     "prompt_number": 8
    },
    {
     "cell_type": "code",
     "collapsed": false,
     "input": [
      "str(T_x.subs([(L, 1), (t_0, 10)]))"
     ],
     "language": "python",
     "metadata": {},
     "outputs": [
      {
       "metadata": {},
       "output_type": "pyout",
       "prompt_number": 9,
       "text": [
        "'-20*sin(pi*x/2)/pi - 20/pi'"
       ]
      }
     ],
     "prompt_number": 9
    },
    {
     "cell_type": "code",
     "collapsed": false,
     "input": [
      "x1 = np.linspace(0, 3)\n",
      "y1 = 10*np.cos(np.pi*x1/2)\n",
      "y2 = -20*np.sin(np.pi*x1/2)/np.pi - 20/np.pi\n",
      "y3 = 0*x1\n",
      "\n",
      "font = {'family' : 'serif',\n",
      "        'color'  : 'black',\n",
      "        'weight' : 'normal',\n",
      "        'size'   : 14,\n",
      "        }\n",
      "\n",
      "plt.subplot(2, 1, 1)\n",
      "plt.plot(x1, y1)\n",
      "plt.fill_between(x1, y1, y2=0, where=None, color=(0.8, 0.8, 0.9))\n",
      "plt.plot(x1, y3, 'k')\n",
      "plt.title('Distributed torque', fontdict=font)\n",
      "plt.xlabel('$x (m)$', fontdict=font)\n",
      "plt.ylabel('$t_x(x)  (N)$', fontdict=font)\n",
      "\n",
      "plt.subplot(2, 1, 2)\n",
      "plt.plot(x1, y2, 'r')\n",
      "plt.plot(x1, y3, 'k')\n",
      "plt.fill_between(x1, y2, y2=0, where=None, color=(1.0, 0.85, 0.8))\n",
      "plt.title('Axial torque resultant', fontdict=font)\n",
      "plt.xlabel(r'$x (m)$', fontdict=font)\n",
      "plt.ylabel(r'$\\mathcal{T}_x(x)  (N \\cdot m)$', fontdict=font)\n",
      "\n",
      "plt.subplots_adjust(hspace=0.7)\n",
      "#plt.grid(True)\n",
      "plt.show()"
     ],
     "language": "python",
     "metadata": {},
     "outputs": [
      {
       "metadata": {},
       "output_type": "display_data",
       "png": "[encoded data removed]",
       "text": [
        "<matplotlib.figure.Figure at 0x7f1a42483850>"
       ]
      }
     ],
     "prompt_number": 10
    },
    {
     "cell_type": "markdown",
     "metadata": {},
     "source": [
      "<small>Note that this problem is a part of the MITx: 2.01x Elements of Structures edX course. You can learn more about the course here: https://www.edx.org/course/mitx/mitx-2-01x-elements-structures-1759.<br />\n",
      "Also note that the course material I have used in this notebook copyrighted by edX and Simona Socrate.<br />\n",
      "Also note that these calculations may contain errors, so use these ideas at your own risk.</small>"
     ]
    }
   ],
   "metadata": {}
  }
 ]
}