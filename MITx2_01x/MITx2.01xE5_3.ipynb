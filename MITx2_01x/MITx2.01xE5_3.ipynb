{
 "metadata": {
  "name": ""
 },
 "nbformat": 3,
 "nbformat_minor": 0,
 "worksheets": [
  {
   "cells": [
    {
     "cell_type": "code",
     "collapsed": false,
     "input": [
      "from IPython.display import display\n",
      "import numpy as np\n",
      "import matplotlib.pyplot as plt\n",
      "\n",
      "from sympy.interactive import printing\n",
      "printing.init_printing()\n",
      "\n",
      "from __future__ import division\n",
      "import sympy as sym\n",
      "from sympy import *\n",
      "%matplotlib inline\n",
      "#%matplotlib qt"
     ],
     "language": "python",
     "metadata": {},
     "outputs": []
    },
    {
     "cell_type": "heading",
     "level": 4,
     "metadata": {},
     "source": [
      "E5_3: Axial torque diagram for distributed loading"
     ]
    },
    {
     "cell_type": "markdown",
     "metadata": {},
     "source": [
      "<big>The shaft in the figure has length $L=3m$ and is loaded by a distributed torque $t_x(x)=t_0(1\u2212x/L)$, linearly varying from a maximum value of $t_x(x=0)=t_0$ at the fixed support $A$ to a value of $t_x(x=L)=0$ at the free end of the shaft $B$. The parameter $t_0$ has a value of $8kN\u22c5m/m$.</big><br/>\n",
      "<img src=\"files/img/images_E5_3_1.png\" width=650 />"
     ]
    },
    {
     "cell_type": "markdown",
     "metadata": {},
     "source": [
      "<big>E5_3_1 Obtain a symbolic expression (in terms of $t_0$, $x$, and $L$) for the axial torque resultant $\\mathcal{T}(x)$ along the shaft:</big>"
     ]
    },
    {
     "cell_type": "code",
     "collapsed": false,
     "input": [
      "L, t_0, xp, x = symbols(\"L t_0 xp x\", real=True)\n",
      "t_x = t_0-(t_0/L)*xp\n",
      "t_x"
     ],
     "language": "python",
     "metadata": {},
     "outputs": [
      {
       "latex": [
        "$$t_{0} - \\frac{t_{0} xp}{L}$$"
       ],
       "metadata": {},
       "output_type": "pyout",
       "png": "[encoded data removed]",
       "prompt_number": 2,
       "text": [
        "     t\u2080\u22c5xp\n",
        "t\u2080 - \u2500\u2500\u2500\u2500\u2500\n",
        "       L  "
       ]
      }
     ],
     "prompt_number": 2
    },
    {
     "cell_type": "code",
     "collapsed": false,
     "input": [
      "T_x = integrate(t_x, (xp, x, L))\n",
      "T_x"
     ],
     "language": "python",
     "metadata": {},
     "outputs": [
      {
       "latex": [
        "$$\\frac{L t_{0}}{2} - t_{0} x + \\frac{t_{0} x^{2}}{2 L}$$"
       ],
       "metadata": {},
       "output_type": "pyout",
       "png": "[encoded data removed]",
       "prompt_number": 3,
       "text": [
        "                  2\n",
        "L\u22c5t\u2080          t\u2080\u22c5x \n",
        "\u2500\u2500\u2500\u2500 - t\u2080\u22c5x + \u2500\u2500\u2500\u2500\u2500\n",
        " 2             2\u22c5L "
       ]
      }
     ],
     "prompt_number": 3
    },
    {
     "cell_type": "code",
     "collapsed": false,
     "input": [
      "str(T_x).replace(\"**\",\"^\")"
     ],
     "language": "python",
     "metadata": {},
     "outputs": [
      {
       "metadata": {},
       "output_type": "pyout",
       "prompt_number": 4,
       "text": [
        "'L*t_0/2 - t_0*x + t_0*x^2/(2*L)'"
       ]
      }
     ],
     "prompt_number": 4
    },
    {
     "cell_type": "markdown",
     "metadata": {},
     "source": [
      "<big>E5_3_2 Obtain the numerical value (in kN\u00b7m) of the maximum axial torque resultant in the shaft, $\\mathcal{T}_max$:</big>"
     ]
    },
    {
     "cell_type": "code",
     "collapsed": false,
     "input": [
      "T_x.subs([(L, 3), (t_0, 8), (x, 0)])"
     ],
     "language": "python",
     "metadata": {},
     "outputs": [
      {
       "latex": [
        "$$12$$"
       ],
       "metadata": {},
       "output_type": "pyout",
       "png": "[encoded data removed]",
       "prompt_number": 5,
       "text": [
        "12"
       ]
      }
     ],
     "prompt_number": 5
    },
    {
     "cell_type": "markdown",
     "metadata": {},
     "source": [
      "<big>E5_3_3 Obtain the numerical value (in kN\u00b7m) of the axial torque resultant at the midsection of the shaft, $\\mathcal{T}(x=L/2)$:</big>"
     ]
    },
    {
     "cell_type": "code",
     "collapsed": false,
     "input": [
      "T_x.subs([(L, 3), (t_0, 8), (x, 3/2)])"
     ],
     "language": "python",
     "metadata": {},
     "outputs": [
      {
       "latex": [
        "$$3.0$$"
       ],
       "metadata": {},
       "output_type": "pyout",
       "png": "[encoded data removed]",
       "prompt_number": 6,
       "text": [
        "3.00000000000000"
       ]
      }
     ],
     "prompt_number": 6
    },
    {
     "cell_type": "markdown",
     "metadata": {},
     "source": [
      "<big>E5_3_4X We can also use MATLAB to plot the values of $t_{x}(x)$ and $\\mathcal{T}(x)$. We've done most of the work for you; all you have to do is enter an expression to compute the (numerical) vector Num_T based on your answer for $\\mathcal{T}(x)$ above.</big>"
     ]
    },
    {
     "cell_type": "code",
     "collapsed": false,
     "input": [
      "t_x = t_x.subs([(L, 3), (t_0, 8), (xp, x)])\n",
      "str(t_x)"
     ],
     "language": "python",
     "metadata": {},
     "outputs": [
      {
       "metadata": {},
       "output_type": "pyout",
       "prompt_number": 40,
       "text": [
        "'-8*x/3 + 8'"
       ]
      }
     ],
     "prompt_number": 40
    },
    {
     "cell_type": "code",
     "collapsed": false,
     "input": [
      "str(T_x.subs([(L, 3), (t_0, 8)]))"
     ],
     "language": "python",
     "metadata": {},
     "outputs": [
      {
       "metadata": {},
       "output_type": "pyout",
       "prompt_number": 32,
       "text": [
        "'4*x**2/3 - 8*x + 12'"
       ]
      }
     ],
     "prompt_number": 32
    },
    {
     "cell_type": "code",
     "collapsed": false,
     "input": [
      "x = np.linspace(0, 3)\n",
      "y1 = -8*x/3 + 8\n",
      "y2 = 4*x**2/3 - 8*x + 12\n",
      "\n",
      "font = {'family' : 'serif',\n",
      "        'color'  : 'black',\n",
      "        'weight' : 'normal',\n",
      "        'size'   : 14,\n",
      "        }\n",
      "\n",
      "plt.subplot(2, 1, 1)\n",
      "plt.plot(x, y1)\n",
      "plt.fill_between(x, y1, y2=0, where=None, color=(0.8, 0.8, 0.9))\n",
      "plt.title('Distributed torque', fontdict=font)\n",
      "plt.text(1.5, 6, r'$t_x(x) = -8*x/3 + 8$', fontdict=font)\n",
      "plt.xlabel('$x (m)$', fontdict=font)\n",
      "plt.ylabel('$t_x(x)  (kN)$', fontdict=font)\n",
      "\n",
      "plt.subplot(2, 1, 2)\n",
      "plt.plot(x, y2, 'r')\n",
      "plt.fill_between(x, y2, y2=0, where=None, color=(1.0, 0.85, 0.8))\n",
      "plt.title('Axial torque resultant', fontdict=font)\n",
      "plt.text(1.5, 9, r'$\\mathcal{T}_x(x) = 4*x^2/3 - 8*x + 12$', fontdict=font)\n",
      "plt.xlabel(r'$x (m)$', fontdict=font)\n",
      "plt.ylabel(r'$\\mathcal{T}_x(x)  (kN \\cdot m)$', fontdict=font)\n",
      "\n",
      "plt.subplots_adjust(hspace=0.7)\n",
      "#plt.grid(True)\n",
      "plt.show()"
     ],
     "language": "python",
     "metadata": {},
     "outputs": [
      {
       "metadata": {},
       "output_type": "display_data",
       "png": "[encoded data removed]",
       "text": [
        "<matplotlib.figure.Figure at 0x7f024e30c650>"
       ]
      }
     ],
     "prompt_number": 71
    },
    {
     "cell_type": "markdown",
     "metadata": {},
     "source": [
      "<small>Note that this problem is a part of the MITx: 2.01x Elements of Structures edX course. You can learn more about the course here: https://www.edx.org/course/mitx/mitx-2-01x-elements-structures-1759.<br />\n",
      "Also note that the course material I have used in this notebook copyrighted by edX and Simona Socrate.<br />\n",
      "Also note that these calculations may contain errors, so use these ideas at your own risk.</small>"
     ]
    }
   ],
   "metadata": {}
  }
 ]
}