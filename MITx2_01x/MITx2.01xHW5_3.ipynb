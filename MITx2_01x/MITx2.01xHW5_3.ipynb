{
 "metadata": {
  "name": ""
 },
 "nbformat": 3,
 "nbformat_minor": 0,
 "worksheets": [
  {
   "cells": [
    {
     "cell_type": "code",
     "collapsed": false,
     "input": [
      "from IPython.display import display\n",
      "from sympy.interactive import printing\n",
      "printing.init_printing()\n",
      "from __future__ import division\n",
      "import sympy as sym\n",
      "from sympy import *"
     ],
     "language": "python",
     "metadata": {},
     "outputs": [],
     "prompt_number": 4
    },
    {
     "cell_type": "heading",
     "level": 3,
     "metadata": {},
     "source": [
      "HW5_3: A design problem for a thin-walled shaft"
     ]
    },
    {
     "cell_type": "markdown",
     "metadata": {},
     "source": [
      "For the thin-walled shaft $ABC$ in the figure, both segments $AB$ and $BC$ are hollow tubes made of the same material and have equal wall thickness $t$. Torques of magnitude $T1$ and $T2$ are applied in opposite directions at sections $B$ and $C$ as indicated in the figure. The relative dimensions of the two segments are:<br />\n",
      "$\\frac{d_1}{d_2}=\\frac{L_1}{L_2}=\\frac{3}{2}$<br />\n",
      "<img src=\"files/img/images_HW5_3_fixed.png\" width=\"650\" />"
     ]
    },
    {
     "cell_type": "markdown",
     "metadata": {},
     "source": [
      "HW5_3_1 If you want the shaft to have zero rotation at point $C$ (i.e. you want to have a total angle of twist for the shaft equal to zero), what ratio should you impose between $T_1$ and $T_2$?<br />\n",
      "<img src=\"files/img/hw5_3_sketch.png\" />"
     ]
    },
    {
     "cell_type": "code",
     "collapsed": false,
     "input": [
      "T, L, t, R, G = symbols(\"T L t R G\", real=True)\n",
      "Phi = T*L/(2*pi*t*G*R**3)\n",
      "Phi"
     ],
     "language": "python",
     "metadata": {},
     "outputs": [
      {
       "latex": [
        "$$\\frac{L T}{2 \\pi G R^{3} t}$$"
       ],
       "metadata": {},
       "output_type": "pyout",
       "png": "[encoded data removed]",
       "prompt_number": 11,
       "text": [
        "   L\u22c5T    \n",
        "\u2500\u2500\u2500\u2500\u2500\u2500\u2500\u2500\u2500\u2500\n",
        "       3  \n",
        "2\u22c5\u03c0\u22c5G\u22c5R \u22c5t"
       ]
      }
     ],
     "prompt_number": 11
    },
    {
     "cell_type": "code",
     "collapsed": false,
     "input": [
      "T_1, T_2, L_2, r_2 = symbols(\"T_1 T_2 L_2 r_2\", real=True)\n",
      "T_ab = -T_1+T_2\n",
      "T_bc = T_2\n",
      "L_1 = Rational(3,2)*L_2\n",
      "r_1 = Rational(3,2)*r_2\n",
      "Phi_ab = Phi.subs([(T, T_ab), (L, L_1), (R, r_1)])\n",
      "display(Phi_ab)\n",
      "Phi_bc = Phi.subs([(T, T_bc), (L, L_2), (R, r_2)])\n",
      "display(Phi_bc)\n",
      "Phi_sum = Phi_ab + Phi_bc\n",
      "display(simplify(Phi_sum))"
     ],
     "language": "python",
     "metadata": {},
     "outputs": [
      {
       "latex": [
        "$$\\frac{2 L_{2} \\left(- T_{1} + T_{2}\\right)}{9 \\pi G r_{2}^{3} t}$$"
       ],
       "metadata": {},
       "output_type": "display_data",
       "png": "[encoded data removed]",
       "text": [
        "2\u22c5L\u2082\u22c5(-T\u2081 + T\u2082)\n",
        "\u2500\u2500\u2500\u2500\u2500\u2500\u2500\u2500\u2500\u2500\u2500\u2500\u2500\u2500\u2500\n",
        "          3    \n",
        "  9\u22c5\u03c0\u22c5G\u22c5r\u2082 \u22c5t  "
       ]
      },
      {
       "latex": [
        "$$\\frac{L_{2} T_{2}}{2 \\pi G r_{2}^{3} t}$$"
       ],
       "metadata": {},
       "output_type": "display_data",
       "png": "[encoded data removed]",
       "text": [
        "   L\u2082\u22c5T\u2082   \n",
        "\u2500\u2500\u2500\u2500\u2500\u2500\u2500\u2500\u2500\u2500\u2500\n",
        "        3  \n",
        "2\u22c5\u03c0\u22c5G\u22c5r\u2082 \u22c5t"
       ]
      },
      {
       "latex": [
        "$$\\frac{L_{2} \\left(- 4 T_{1} + 13 T_{2}\\right)}{18 \\pi G r_{2}^{3} t}$$"
       ],
       "metadata": {},
       "output_type": "display_data",
       "png": "[encoded data removed]",
       "text": [
        "L\u2082\u22c5(-4\u22c5T\u2081 + 13\u22c5T\u2082)\n",
        "\u2500\u2500\u2500\u2500\u2500\u2500\u2500\u2500\u2500\u2500\u2500\u2500\u2500\u2500\u2500\u2500\u2500\u2500\n",
        "            3     \n",
        "   18\u22c5\u03c0\u22c5G\u22c5r\u2082 \u22c5t   "
       ]
      }
     ],
     "prompt_number": 12
    },
    {
     "cell_type": "code",
     "collapsed": false,
     "input": [
      "solve(Phi_sum, T_1)"
     ],
     "language": "python",
     "metadata": {},
     "outputs": [
      {
       "latex": [
        "$$\\begin{bmatrix}\\frac{13 T_{2}}{4}\\end{bmatrix}$$"
       ],
       "metadata": {},
       "output_type": "pyout",
       "prompt_number": 14,
       "text": [
        "\u23a113\u22c5T\u2082\u23a4\n",
        "\u23a2\u2500\u2500\u2500\u2500\u2500\u23a5\n",
        "\u23a3  4  \u23a6"
       ]
      }
     ],
     "prompt_number": 14
    },
    {
     "cell_type": "markdown",
     "metadata": {},
     "source": [
      "<small>Note that this problem is a part of the MITx: 2.01x Elements of Structures edX course. You can learn more about the course here: https://www.edx.org/course/mitx/mitx-2-01x-elements-structures-1759.<br />\n",
      "Also note that the course material I have used in this notebook copyrighted by edX and Simona Socrate.<br />\n",
      "Also note that these calculations may contain errors, so use these ideas at your own risk.</small>"
     ]
    }
   ],
   "metadata": {}
  }
 ]
}