{
 "metadata": {
  "name": ""
 },
 "nbformat": 3,
 "nbformat_minor": 0,
 "worksheets": [
  {
   "cells": [
    {
     "cell_type": "code",
     "collapsed": false,
     "input": [
      "from IPython.display import display\n",
      "\n",
      "from sympy.interactive import printing\n",
      "printing.init_printing()\n",
      "from __future__ import division\n",
      "import sympy as sym\n",
      "from sympy import *\n",
      "\n",
      "import numpy as np\n",
      "import matplotlib.pyplot as plt\n",
      "%matplotlib inline"
     ],
     "language": "python",
     "metadata": {},
     "outputs": [],
     "prompt_number": 27
    },
    {
     "cell_type": "heading",
     "level": 4,
     "metadata": {},
     "source": [
      "HW5_4: Axial torque diagram for concentrated and distributed loading"
     ]
    },
    {
     "cell_type": "markdown",
     "metadata": {},
     "source": [
      "The shaft $ACB$ in the figure has length $L=4m$ and is fixed at section $A$. Concentrated torques of magnitudes $Q_1=10kN\u22c5m$ and $Q_2=5kN\u22c5m$ act in opposite directions at sections $C (x=L/2)$ and $B (x=L)$, respectively, as indicated in the figure. In addition, a distributed torque $t_x(x)$ of uniform magnitude $q_0=6kN\u22c5m/m$ acts along the segment $AC$ of the shaft in the direction indicated in the figure; that is,$$\n",
      "t_x(x) = \\left\\{\n",
      "  \\begin{array}{l l}\n",
      "    -q_0 & \\quad \\text{$0 \\leq x \\leq \\frac{L}{2} $}\\\\\n",
      "    0 & \\quad \\text{$\\frac{L}{2} < x \\leq L$}\n",
      "  \\end{array} \\right.$$\n",
      "<img src=\"files/img/images_HW5_4.png\" width=\"650\" />"
     ]
    },
    {
     "cell_type": "markdown",
     "metadata": {},
     "source": [
      "HW5_4_1 Obtain a piecewise symbolic expression (in terms of $Q_1$, $Q_2$, $q_0$, $x$, and $L$) for the axial torque resultant $\\mathcal{T}(x)$ along the shaft:<br/>\n",
      "<img src=\"files/img/hw_5_4_diag.png\" />"
     ]
    },
    {
     "cell_type": "code",
     "collapsed": false,
     "input": [
      "L, Q_1, Q_2, q_0, x, xp = symbols(\"L Q_1 Q_2 q_0 x xp\", real=True)\n",
      "t_x = -q_0\n",
      "T_ac = integrate(t_x, (xp, x, L/2)) + Q_1 - Q_2\n",
      "display(T_ac)\n",
      "display(str(T_ac))\n",
      "T_cb = -Q_2\n",
      "display(T_cb)"
     ],
     "language": "python",
     "metadata": {},
     "outputs": [
      {
       "latex": [
        "$$- \\frac{L q_{0}}{2} + Q_{1} - Q_{2} + q_{0} x$$"
       ],
       "metadata": {},
       "output_type": "display_data",
       "png": "[encoded data removed]",
       "text": [
        "  L\u22c5q\u2080                 \n",
        "- \u2500\u2500\u2500\u2500 + Q\u2081 - Q\u2082 + q\u2080\u22c5x\n",
        "   2                   "
       ]
      },
      {
       "metadata": {},
       "output_type": "display_data",
       "text": [
        "'-L*q_0/2 + Q_1 - Q_2 + q_0*x'"
       ]
      },
      {
       "latex": [
        "$$- Q_{2}$$"
       ],
       "metadata": {},
       "output_type": "display_data",
       "png": "[encoded data removed]",
       "text": [
        "-Q\u2082"
       ]
      }
     ],
     "prompt_number": 29
    },
    {
     "cell_type": "markdown",
     "metadata": {},
     "source": [
      "HW5_4_2 Obtain the numerical value (in kN\u00b7m) of the maximum magnitude for the axial torque resultant in the shaft, $\\mathcal{T}_{max}$:"
     ]
    },
    {
     "cell_type": "code",
     "collapsed": false,
     "input": [
      "T_ac.subs([(L, 4), (Q_1, 10), (Q_2, 5), (q_0, 6), (x, 0)])"
     ],
     "language": "python",
     "metadata": {},
     "outputs": [
      {
       "latex": [
        "$$-7$$"
       ],
       "metadata": {},
       "output_type": "pyout",
       "png": "[encoded data removed]",
       "prompt_number": 49,
       "text": [
        "-7"
       ]
      }
     ],
     "prompt_number": 49
    },
    {
     "cell_type": "markdown",
     "metadata": {},
     "source": [
      "HW5_4_3 Obtain the numerical value (in kN\u00b7m) of the axial torque resultant $\\mathcal{T}(x=L/4)$ at the midsection of segment $AC$:"
     ]
    },
    {
     "cell_type": "code",
     "collapsed": false,
     "input": [
      "T_ac.subs([(L, 4), (Q_1, 10), (Q_2, 5), (q_0, 6), (x, 4/4)])"
     ],
     "language": "python",
     "metadata": {},
     "outputs": [
      {
       "latex": [
        "$$-1.0$$"
       ],
       "metadata": {},
       "output_type": "pyout",
       "png": "[encoded data removed]",
       "prompt_number": 31,
       "text": [
        "-1.00000000000000"
       ]
      }
     ],
     "prompt_number": 31
    },
    {
     "cell_type": "markdown",
     "metadata": {},
     "source": [
      " HW5_4_x\n",
      "Challenge question\n",
      "\n",
      "This challenge question is just for fun: it gives you no points, so you do not NEED to get the right solution. Indeed it is not even graded.\n",
      "\n",
      "Try to plot $\\mathcal{T}(x)$ by writing MATLAB code in the blank command window below. If you succeed, take a screenshot of your plot (NOT THE CODE in the command window!) and post it in the discussion forum under the \"Challenge!\" thread. It is okay to do this just this once, even if it \"gives away\" the solution to HW5_4.\n",
      "\n",
      "For reference, you can look at what we had in the MATLAB windows for the examples in axial loading and in problem E0_11 of the first Introduction to MATLAB sequence. You will have to write all of the code, including lines similar to the ones in previous \"do not edit\" sections. Note that any text after the % sign is interpreted by MATLAB as a comment, and it is not executed.\n",
      "\n",
      "Did you succeed? Pat yourself on the back!"
     ]
    },
    {
     "cell_type": "code",
     "collapsed": false,
     "input": [
      "display(T_ac.subs([(L, 4), (Q_1, 10), (Q_2, 5), (q_0, 6)]))\n",
      "display(T_cb.subs([(L, 4), (Q_1, 10), (Q_2, 5), (q_0, 6)]))"
     ],
     "language": "python",
     "metadata": {},
     "outputs": [
      {
       "latex": [
        "$$6 x - 7$$"
       ],
       "metadata": {},
       "output_type": "display_data",
       "png": "[encoded data removed]",
       "text": [
        "6\u22c5x - 7"
       ]
      },
      {
       "latex": [
        "$$-5$$"
       ],
       "metadata": {},
       "output_type": "display_data",
       "png": "[encoded data removed]",
       "text": [
        "-5"
       ]
      }
     ],
     "prompt_number": 12
    },
    {
     "cell_type": "code",
     "collapsed": false,
     "input": [
      "x1 = np.linspace(0, 4, 200)\n",
      "y1 = 0*x1\n",
      "y1[x1<=2] = 6*x1[x1<=2]-7\n",
      "y1[x1>2] = -5\n",
      "y2 = 0*x1\n",
      "\n",
      "font = {'family' : 'serif',\n",
      "        'color'  : 'black',\n",
      "        'weight' : 'normal',\n",
      "        'size'   : 14,\n",
      "        }\n",
      "\n",
      "plt.plot(x1, y1, 'b')\n",
      "plt.fill_between(x1, y1, y2=0, where=None, color=(0.8, 0.8, 0.9))\n",
      "plt.plot(x1, y2, 'k')\n",
      "plt.title('Axial torque resultant', fontdict=font)\n",
      "plt.xlabel('$x (m)$', fontdict=font)\n",
      "plt.ylabel(r'$\\mathcal{T}_x(x)  (kN \\cdot m)$', fontdict=font)\n",
      "\n",
      "plt.show()"
     ],
     "language": "python",
     "metadata": {},
     "outputs": [
      {
       "metadata": {},
       "output_type": "display_data",
       "png": "[encoded data removed]",
       "text": [
        "<matplotlib.figure.Figure at 0x7f1e6647ce10>"
       ]
      }
     ],
     "prompt_number": 50
    },
    {
     "cell_type": "markdown",
     "metadata": {},
     "source": [
      "<small>Note that this problem is a part of the MITx: 2.01x Elements of Structures edX course. You can learn more about the course here: https://www.edx.org/course/mitx/mitx-2-01x-elements-structures-1759.<br />\n",
      "Also note that the course material I have used in this notebook copyrighted by edX and Simona Socrate.<br />\n",
      "Also note that these calculations may contain errors, so use these ideas at your own risk.</small>"
     ]
    }
   ],
   "metadata": {}
  }
 ]
}