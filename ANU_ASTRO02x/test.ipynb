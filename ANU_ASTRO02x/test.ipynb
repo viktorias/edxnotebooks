{
 "metadata": {
  "name": ""
 },
 "nbformat": 3,
 "nbformat_minor": 0,
 "worksheets": [
  {
   "cells": [
    {
     "cell_type": "markdown",
     "metadata": {},
     "source": [
      "This is just a test."
     ]
    },
    {
     "cell_type": "code",
     "collapsed": false,
     "input": [
      "from IPython.display import display\n",
      "\n",
      "from sympy.interactive import printing\n",
      "printing.init_printing()\n",
      "from __future__ import division\n",
      "import sympy as sym\n",
      "from sympy import *\n",
      "\n",
      "import csv\n",
      "import numpy as np\n",
      "from scipy.optimize import leastsq\n",
      "import matplotlib.pyplot as plt\n",
      "%matplotlib inline"
     ],
     "language": "python",
     "metadata": {},
     "outputs": [],
     "prompt_number": 1
    },
    {
     "cell_type": "code",
     "collapsed": false,
     "input": [
      "x = []\n",
      "y = []\n",
      "f=open(\"data/test.csv\")\n",
      "i = 0\n",
      "for row in csv.reader(f):\n",
      "    if (i==0):\n",
      "        i+=1\n",
      "        continue\n",
      "    x.append(float(row[0]))\n",
      "    y.append(float(row[1]))\n",
      "plt.plot(x,y, 'bo')\n",
      "plt.xlabel('x')\n",
      "plt.ylabel('y')\n",
      "plt.axis([0, 7, 0, 11])\n",
      "plt.show()"
     ],
     "language": "python",
     "metadata": {},
     "outputs": [
      {
       "metadata": {},
       "output_type": "display_data",
       "png": "[encoded data removed]",
       "text": [
        "<matplotlib.figure.Figure at 0x7fbdf68fd990>"
       ]
      }
     ],
     "prompt_number": 3
    },
    {
     "cell_type": "code",
     "collapsed": false,
     "input": [],
     "language": "python",
     "metadata": {},
     "outputs": []
    }
   ],
   "metadata": {}
  }
 ]
}